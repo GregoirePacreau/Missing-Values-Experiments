{
 "cells": [
  {
   "cell_type": "markdown",
   "id": "db6a43d0",
   "metadata": {},
   "source": [
    "# Imports"
   ]
  },
  {
   "cell_type": "code",
   "execution_count": null,
   "id": "ca7eef06",
   "metadata": {},
   "outputs": [],
   "source": [
    "import numpy\n",
    "import matplotlib.pyplot as plt\n",
    "from tqdm import tqdm\n",
    "from auxiliary_functions import *\n",
    "import random\n",
    "random.seed(0)\n",
    "numpy.random.seed(0)\n",
    "\n",
    "N = 500 # number of observation\n",
    "p = 100 # dimension of observations\n",
    "M = 100 # number of experiments per delta\n",
    "BIAS = True # Whether to use the biased or unbiased covariance estimator\n",
    "effective_rank = 5"
   ]
  },
  {
   "cell_type": "markdown",
   "id": "2381ec24",
   "metadata": {},
   "source": [
    "# Cell Wise extreme outliers"
   ]
  },
  {
   "cell_type": "code",
   "execution_count": null,
   "id": "f125ae1f",
   "metadata": {},
   "outputs": [],
   "source": [
    "sigma, eigen = low_rank(5, 100, 500)\n",
    "X = numpy.random.multivariate_normal(N, p, sigma)\n",
    "X_noisy = contaminate_bernoulli(X, sigma, s=5, max_iter=1e3)"
   ]
  },
  {
   "cell_type": "markdown",
   "id": "855a95d4",
   "metadata": {},
   "source": [
    "# Spectral adversarial attack\n",
    "\n",
    "#### Proof of concept for the attack"
   ]
  },
  {
   "cell_type": "code",
   "execution_count": null,
   "id": "202d1ac1",
   "metadata": {},
   "outputs": [],
   "source": [
    "# Version with 5% perturbation\n",
    "sigma, eigen = low_rank(5, 100, 500)\n",
    "X = numpy.random.multivariate(N, p, sigma)\n",
    "X_noisy = contaminate_adversarial(X, sigma, s=5, max_iter=1e3)\n",
    "\n",
    "print(\"fro norm of error of cov estimator :                            \", numpy.linalg.norm(numpy.cov(X.T) - sigma))\n",
    "print(\"fro norm of error of cov estimator after adverse perturbation : \", numpy.linalg.norm(numpy.cov(X_noisy.T) - sigma))"
   ]
  },
  {
   "cell_type": "code",
   "execution_count": null,
   "id": "5169294d",
   "metadata": {},
   "outputs": [],
   "source": [
    "# Comparison of the first 10 eigenvalues of the true covariance matrix and\n",
    "# the estimated covariance matrices with and without the adversarial\n",
    "# perturbation. Ideally, the differences should be almost invisible,\n",
    "# showing that this kind of adversarial attack isn't trivially identifiable.\n",
    "u, d, v = numpy.linalg.svd(sigma)\n",
    "u_hat, d_hat, v_hat = numpy.linalg.svd(numpy.cov(X.T))\n",
    "u_noise, d_noise, v_noise = numpy.linalg.svd(numpy.cov(X_noisy.T))\n",
    "\n",
    "plt.figure(figsize=(10,8))\n",
    "plt.plot(d[:10])\n",
    "plt.plot(d_hat[:10])\n",
    "plt.plot(d_noise[:10])\n",
    "plt.legend([\"True\", \"estimated\", \"estimated and perturbed\"])\n",
    "plt.title(\"comparison of first 10 eigenvalues\")\n",
    "plt.show()"
   ]
  },
  {
   "cell_type": "code",
   "execution_count": null,
   "id": "4c3f8cac",
   "metadata": {},
   "outputs": [],
   "source": [
    "# Comparison of the error in estimated eigenspaces, by computing the frobenius\n",
    "# distance between projectors. Although the eigenvalues remain very similar\n",
    "# after the attack, the eigenspaces change, thus proving the attack alters\n",
    "# the overall structure of the covariance matrix.\n",
    "print(\"fro norm error of first eigenvector : \", numpy.linalg.norm(v_hat[0] - v[0]))\n",
    "print(\"same with perturbation              : \", numpy.linalg.norm(v_noise[0] - v[0]))\n",
    "\n",
    "dists_hat = []\n",
    "dists_noise = []\n",
    "for i in range(len(d)):\n",
    "    # thetas designate projectors to the eigenspace\n",
    "    theta_hat = numpy.outer(v_hat[i], v_hat[i].T)\n",
    "    theta = numpy.outer(v[i], v[i].T)\n",
    "    theta_noise = numpy.outer(v_noise[i], v_noise[i].T)\n",
    "    error_noise = numpy.linalg.norm(theta_noise[i] - theta[i])\n",
    "    error_hat = numpy.linalg.norm(theta_hat[i] - theta[i])\n",
    "    dists_hat.append(error_hat)\n",
    "    dists_noise.append(error_noise)\n",
    "\n",
    "plt.plot(dists_hat)\n",
    "plt.plot(dists_noise)\n",
    "plt.legend([\"fro error of eigenvectors\", \"fro error of perturbed estimated eigenvectors\"])\n",
    "plt.title(\"Error of estimated eigenvectors with and without perturbation\")\n",
    "plt.show()"
   ]
  },
  {
   "cell_type": "markdown",
   "id": "faa947f2",
   "metadata": {},
   "source": [
    "#### Comparison of different estimators"
   ]
  },
  {
   "cell_type": "code",
   "execution_count": null,
   "id": "5146d41a",
   "metadata": {},
   "outputs": [],
   "source": []
  }
 ],
 "metadata": {
  "kernelspec": {
   "display_name": "Python 3.9.12 ('base')",
   "language": "python",
   "name": "python3"
  },
  "language_info": {
   "codemirror_mode": {
    "name": "ipython",
    "version": 3
   },
   "file_extension": ".py",
   "mimetype": "text/x-python",
   "name": "python",
   "nbconvert_exporter": "python",
   "pygments_lexer": "ipython3",
   "version": "3.9.12"
  },
  "vscode": {
   "interpreter": {
    "hash": "40d3a090f54c6569ab1632332b64b2c03c39dcf918b08424e98f38b5ae0af88f"
   }
  }
 },
 "nbformat": 4,
 "nbformat_minor": 5
}
