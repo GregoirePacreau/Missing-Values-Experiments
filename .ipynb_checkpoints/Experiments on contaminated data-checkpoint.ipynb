{
 "cells": [
  {
   "cell_type": "markdown",
   "id": "737c58b1",
   "metadata": {},
   "source": []
  },
  {
   "cell_type": "code",
   "execution_count": null,
   "id": "fcafa00d",
   "metadata": {},
   "outputs": [],
   "source": [
    "import numpy\n",
    "import matplotlib.pyplot as plt\n",
    "from tqdm import tqdm\n",
    "from auxiliary_functions import *\n",
    "import random\n",
    "random.seed(0)\n",
    "numpy.random.seed(0)\n",
    "\n",
    "N = 500 # number of observation\n",
    "p = 100 # dimension of observations\n",
    "M = 100 # number of experiments per delta\n",
    "BIAS = True # Whether to use the biased or unbiased covariance estimator\n",
    "effective_rank = 5"
   ]
  },
  {
   "cell_type": "markdown",
   "id": "02b3f9d4",
   "metadata": {},
   "source": [
    "# Cell Wise extreme outliers"
   ]
  },
  {
   "cell_type": "code",
   "execution_count": null,
   "id": "4203a64b",
   "metadata": {},
   "outputs": [],
   "source": []
  },
  {
   "cell_type": "markdown",
   "id": "63f89176",
   "metadata": {},
   "source": [
    "# Spectral adversarial attack\n",
    "\n",
    "#### Proof of concept for the attack"
   ]
  },
  {
   "cell_type": "code",
   "execution_count": null,
   "id": "4e77ef07",
   "metadata": {},
   "outputs": [],
   "source": [
    "# Version with 5% perturbation\n",
    "sigma, eigen = low_rank(5, 100, 500)\n",
    "X = numpy.random.mutlivariate(n,p, sigma)\n",
    "X_noisy = contaminate_adversarial(X, sigma, s=5, max_iter=1e3)\n",
    "\n",
    "print(\"fro norm of error of cov estimator :                            \", numpy.linalg.norm(numpy.cov(X.T) - sigma))\n",
    "print(\"fro norm of error of cov estimator after adverse perturbation : \", numpy.linalg.norm(numpy.cov(X_noisy.T) - sigma))"
   ]
  },
  {
   "cell_type": "code",
   "execution_count": null,
   "id": "1ad5fc6e",
   "metadata": {},
   "outputs": [],
   "source": [
    "# Comparison of the first 10 eigenvalues of the true covariance matrix and\n",
    "# the estimated covariance matrices with and without the adversarial\n",
    "# perturbation. Ideally, the differences should be almost invisible,\n",
    "# showing that this kind of adversarial attack isn't trivially identifiable.\n",
    "u, d, v = numpy.linalg.svd(sigma)\n",
    "u_hat, d_hat, v_hat = numpy.linalg.svd(numpy.cov(X.T))\n",
    "u_noise, d_noise, v_noise = numpy.linalg.svd(numpy.cov(X_noisy.T))\n",
    "\n",
    "plt.figure(figsize=(10,8))\n",
    "plt.plot(d[:10])\n",
    "plt.plot(d_hat[:10])\n",
    "plt.plot(d_noise[:10])\n",
    "plt.legend([\"True\", \"estimated\", \"estimated and perturbed\"])\n",
    "plt.title(\"comparison of first 10 eigenvalues\")\n",
    "plt.show()"
   ]
  },
  {
   "cell_type": "code",
   "execution_count": null,
   "id": "2c315f1b",
   "metadata": {},
   "outputs": [],
   "source": [
    "# Comparison of the error in estimated eigenspaces, by computing the frobenius\n",
    "# distance between projectors. Although the eigenvalues remain very similar\n",
    "# after the attack, the eigenspaces change, thus proving the attack alters\n",
    "# the overall structure of the covariance matrix."
   ]
  }
 ],
 "metadata": {
  "kernelspec": {
   "display_name": "Python 3 (ipykernel)",
   "language": "python",
   "name": "python3"
  },
  "language_info": {
   "codemirror_mode": {
    "name": "ipython",
    "version": 3
   },
   "file_extension": ".py",
   "mimetype": "text/x-python",
   "name": "python",
   "nbconvert_exporter": "python",
   "pygments_lexer": "ipython3",
   "version": "3.9.7"
  }
 },
 "nbformat": 4,
 "nbformat_minor": 5
}
